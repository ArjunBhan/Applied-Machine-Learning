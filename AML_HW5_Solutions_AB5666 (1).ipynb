{
 "cells": [
  {
   "cell_type": "markdown",
   "metadata": {
    "id": "CsciWCcwSvTS"
   },
   "source": [
    "# **Applied Machine Learning Homework 5**\n",
    "**Due 02 Dec 2023 (Tuesday) 11:59PM EST**"
   ]
  },
  {
   "cell_type": "markdown",
   "metadata": {
    "id": "ES5E7BQBTnnd"
   },
   "source": [
    "Instructions\n",
    "\n",
    "1) Please push the .ipynb and .pdf to Github Classroom prior to the deadline, .py file is optional (not needed).\n",
    "\n",
    "2) Please include your Name and UNI below."
   ]
  },
  {
   "cell_type": "markdown",
   "metadata": {
    "id": "D0SIMW0OTr9m"
   },
   "source": [
    "## Name : Arjun Bhan\n",
    "\n",
    "## UNI : AB5666"
   ]
  },
  {
   "cell_type": "markdown",
   "metadata": {
    "id": "sNOxhZujV_jK"
   },
   "source": [
    "## Convolutional Neural Network\n",
    "\n",
    "In this part of the homework, we will build and train a classical convolutional neural network on the CIFAR Dataset"
   ]
  },
  {
   "cell_type": "code",
   "execution_count": 1,
   "metadata": {
    "id": "I6NNBcucXClM"
   },
   "outputs": [
    {
     "name": "stdout",
     "output_type": "stream",
     "text": [
      "WARNING:tensorflow:From C:\\Users\\arjun\\anaconda3\\Lib\\site-packages\\keras\\src\\losses.py:2976: The name tf.losses.sparse_softmax_cross_entropy is deprecated. Please use tf.compat.v1.losses.sparse_softmax_cross_entropy instead.\n",
      "\n"
     ]
    }
   ],
   "source": [
    "from tensorflow.keras.models import Sequential\n",
    "from tensorflow.keras.layers import Dense, Conv2D, MaxPool2D, Flatten, Dropout, BatchNormalization\n",
    "import pandas as pd\n",
    "from tensorflow.keras.utils import to_categorical\n",
    "from tensorflow.keras.datasets import cifar10\n",
    "import numpy as np\n",
    "import matplotlib.pyplot as plt\n"
   ]
  },
  {
   "cell_type": "code",
   "execution_count": 2,
   "metadata": {
    "colab": {
     "base_uri": "https://localhost:8080/"
    },
    "id": "Jd4jHLzTYuZm",
    "outputId": "4cd4a1ac-0439-494c-909d-fef80707e618"
   },
   "outputs": [
    {
     "name": "stdout",
     "output_type": "stream",
     "text": [
      "x_dev: (50000, 32, 32, 3),y_dev: (50000, 1),x_test: (10000, 32, 32, 3),y_test: (10000, 1)\n"
     ]
    }
   ],
   "source": [
    "(x_dev, y_dev), (x_test, y_test) = cifar10.load_data()\n",
    "print(\"x_dev: {},y_dev: {},x_test: {},y_test: {}\".format(x_dev.shape, y_dev.shape, x_test.shape, y_test.shape))\n",
    "\n",
    "x_dev, x_test = x_dev.astype('float32'), x_test.astype('float32')\n",
    "x_dev = x_dev/255.0\n",
    "x_test = x_test/255.0\n",
    "\n",
    "\n",
    "from sklearn.model_selection import train_test_split\n",
    "\n",
    "X_train, X_val, y_train, y_val = train_test_split(x_dev, y_dev,test_size = 0.2, random_state = 42)"
   ]
  },
  {
   "cell_type": "code",
   "execution_count": 3,
   "metadata": {
    "colab": {
     "base_uri": "https://localhost:8080/"
    },
    "id": "pww7uJwHJINq",
    "outputId": "8978e478-14d0-4f13-df4d-10b9fbeb8a0e"
   },
   "outputs": [
    {
     "data": {
      "text/plain": [
       "array([0, 1, 2, 3, 4, 5, 6, 7, 8, 9], dtype=uint8)"
      ]
     },
     "execution_count": 3,
     "metadata": {},
     "output_type": "execute_result"
    }
   ],
   "source": [
    "np.unique(y_dev)"
   ]
  },
  {
   "cell_type": "markdown",
   "metadata": {
    "id": "bDPnZzg0XDQ9"
   },
   "source": [
    "3.1 We will be implementing the one of the first CNN models put forward by Yann LeCunn, which is commonly refered to as LeNet-5. The network has the following layers:\n",
    "1) 2D convolutional layer with 6 filters, 5x5 kernel, stride of 1 padded to yield the same size as input, ReLU activation\n",
    "\n",
    "2) Maxpooling layer of 2x2\n",
    "\n",
    "3) 2D convolutional layer with 16 filters, 5x5 kernel, 0 padding, ReLU activation\n",
    "\n",
    "4) Maxpooling layer of 2x2\n",
    "\n",
    "5) 2D convolutional layer with 120 filters, 5x5 kernel, ReLU activation. Note that this layer has 120 output channels (filters), and each channel has only 1 number. The output of this layer is just a vector with 120 units!\n",
    "\n",
    "6) A fully connected layer with 84 units, ReLU activation\n",
    "\n",
    "7) The output layer where each unit respresents the probability of image being in that category. What activation function should you use in this layer? (You should know this)"
   ]
  },
  {
   "cell_type": "code",
   "execution_count": 4,
   "metadata": {
    "id": "2isXg-9-Lp0R"
   },
   "outputs": [
    {
     "name": "stdout",
     "output_type": "stream",
     "text": [
      "WARNING:tensorflow:From C:\\Users\\arjun\\anaconda3\\Lib\\site-packages\\keras\\src\\backend.py:873: The name tf.get_default_graph is deprecated. Please use tf.compat.v1.get_default_graph instead.\n",
      "\n",
      "WARNING:tensorflow:From C:\\Users\\arjun\\anaconda3\\Lib\\site-packages\\keras\\src\\layers\\pooling\\max_pooling2d.py:161: The name tf.nn.max_pool is deprecated. Please use tf.nn.max_pool2d instead.\n",
      "\n"
     ]
    }
   ],
   "source": [
    "model = Sequential([\n",
    "  Conv2D(filters = 6, kernel_size = (5,5), strides = (1, 1), padding = 'same', activation = 'relu', input_shape = (32, 32, 3)),\n",
    "  MaxPool2D(pool_size = (2, 2)),\n",
    "  Conv2D(filters = 16, kernel_size = (5,5), padding = 'valid', activation = 'relu'),\n",
    "  MaxPool2D(pool_size = (2, 2)),\n",
    "  Conv2D(filters = 120, kernel_size = (5,5), activation = 'relu'),\n",
    "  Flatten(),\n",
    "  Dense(units = 84, activation = 'relu'),\n",
    "  Dense(units = 10, activation = 'softmax')\n",
    "])\n"
   ]
  },
  {
   "cell_type": "code",
   "execution_count": 5,
   "metadata": {
    "id": "MXka1ml41q9W"
   },
   "outputs": [
    {
     "name": "stdout",
     "output_type": "stream",
     "text": [
      "WARNING:tensorflow:From C:\\Users\\arjun\\anaconda3\\Lib\\site-packages\\keras\\src\\optimizers\\__init__.py:309: The name tf.train.Optimizer is deprecated. Please use tf.compat.v1.train.Optimizer instead.\n",
      "\n"
     ]
    }
   ],
   "source": [
    "model.compile(optimizer = 'adam', loss = 'categorical_crossentropy', metrics = ['accuracy'])"
   ]
  },
  {
   "cell_type": "raw",
   "metadata": {
    "id": "zKkSBBDwXNT1"
   },
   "source": [
    "3.2 Report the model summary"
   ]
  },
  {
   "cell_type": "code",
   "execution_count": 6,
   "metadata": {
    "colab": {
     "base_uri": "https://localhost:8080/"
    },
    "id": "sJlJnEcUXQY-",
    "outputId": "2d8bfc27-4fb0-4b3b-de1e-8f2eb6418540",
    "scrolled": true
   },
   "outputs": [
    {
     "name": "stdout",
     "output_type": "stream",
     "text": [
      "Model: \"sequential\"\n",
      "_________________________________________________________________\n",
      " Layer (type)                Output Shape              Param #   \n",
      "=================================================================\n",
      " conv2d (Conv2D)             (None, 32, 32, 6)         456       \n",
      "                                                                 \n",
      " max_pooling2d (MaxPooling2  (None, 16, 16, 6)         0         \n",
      " D)                                                              \n",
      "                                                                 \n",
      " conv2d_1 (Conv2D)           (None, 12, 12, 16)        2416      \n",
      "                                                                 \n",
      " max_pooling2d_1 (MaxPoolin  (None, 6, 6, 16)          0         \n",
      " g2D)                                                            \n",
      "                                                                 \n",
      " conv2d_2 (Conv2D)           (None, 2, 2, 120)         48120     \n",
      "                                                                 \n",
      " flatten (Flatten)           (None, 480)               0         \n",
      "                                                                 \n",
      " dense (Dense)               (None, 84)                40404     \n",
      "                                                                 \n",
      " dense_1 (Dense)             (None, 10)                850       \n",
      "                                                                 \n",
      "=================================================================\n",
      "Total params: 92246 (360.34 KB)\n",
      "Trainable params: 92246 (360.34 KB)\n",
      "Non-trainable params: 0 (0.00 Byte)\n",
      "_________________________________________________________________\n"
     ]
    }
   ],
   "source": [
    "#Your code here\n",
    "model.summary()"
   ]
  },
  {
   "cell_type": "markdown",
   "metadata": {
    "id": "sjMqpYrkXXO0"
   },
   "source": [
    "###3.3 Model Training\n",
    "\n",
    "1) Train the model for 20 epochs. In each epoch, record the loss and metric (chosen in part 3) scores for both train and validation sets.\n",
    "\n",
    "2) Plot separate plots for:\n",
    "\n",
    "* displaying train vs validation loss over each epoch\n",
    "* displaying train vs validation accuracy over each epoch\n",
    "\n",
    "3) Report the model performance on the test set. Feel free to tune the hyperparameters such as batch size and optimizers to achieve better performance."
   ]
  },
  {
   "cell_type": "code",
   "execution_count": 7,
   "metadata": {},
   "outputs": [],
   "source": [
    "y_train_encode = to_categorical(y_train, num_classes = 10)\n",
    "y_val_encode = to_categorical(y_val, num_classes = 10)\n",
    "y_test_encode = to_categorical(y_test, num_classes = 10)"
   ]
  },
  {
   "cell_type": "code",
   "execution_count": 8,
   "metadata": {},
   "outputs": [
    {
     "data": {
      "text/plain": [
       "(40000, 10)"
      ]
     },
     "execution_count": 8,
     "metadata": {},
     "output_type": "execute_result"
    }
   ],
   "source": [
    "y_train_encode.shape"
   ]
  },
  {
   "cell_type": "code",
   "execution_count": 9,
   "metadata": {
    "colab": {
     "base_uri": "https://localhost:8080/",
     "height": 980
    },
    "id": "Cyk188RpXYGs",
    "outputId": "4b8b1ee0-3823-44de-f3e0-f3db6352f812"
   },
   "outputs": [
    {
     "name": "stdout",
     "output_type": "stream",
     "text": [
      "Epoch 1/20\n",
      "WARNING:tensorflow:From C:\\Users\\arjun\\anaconda3\\Lib\\site-packages\\keras\\src\\utils\\tf_utils.py:492: The name tf.ragged.RaggedTensorValue is deprecated. Please use tf.compat.v1.ragged.RaggedTensorValue instead.\n",
      "\n",
      "WARNING:tensorflow:From C:\\Users\\arjun\\anaconda3\\Lib\\site-packages\\keras\\src\\engine\\base_layer_utils.py:384: The name tf.executing_eagerly_outside_functions is deprecated. Please use tf.compat.v1.executing_eagerly_outside_functions instead.\n",
      "\n",
      "1250/1250 [==============================] - 22s 14ms/step - loss: 1.5846 - accuracy: 0.4204 - val_loss: 1.3810 - val_accuracy: 0.5136\n",
      "Epoch 2/20\n",
      "1250/1250 [==============================] - 16s 13ms/step - loss: 1.3071 - accuracy: 0.5324 - val_loss: 1.2654 - val_accuracy: 0.5472\n",
      "Epoch 3/20\n",
      "1250/1250 [==============================] - 16s 13ms/step - loss: 1.1896 - accuracy: 0.5747 - val_loss: 1.2574 - val_accuracy: 0.5527\n",
      "Epoch 4/20\n",
      "1250/1250 [==============================] - 16s 13ms/step - loss: 1.0895 - accuracy: 0.6136 - val_loss: 1.1377 - val_accuracy: 0.5974\n",
      "Epoch 5/20\n",
      "1250/1250 [==============================] - 16s 13ms/step - loss: 1.0158 - accuracy: 0.6399 - val_loss: 1.1160 - val_accuracy: 0.6087\n",
      "Epoch 6/20\n",
      "1250/1250 [==============================] - 16s 13ms/step - loss: 0.9567 - accuracy: 0.6597 - val_loss: 1.1097 - val_accuracy: 0.6176\n",
      "Epoch 7/20\n",
      "1250/1250 [==============================] - 17s 14ms/step - loss: 0.9066 - accuracy: 0.6781 - val_loss: 1.0480 - val_accuracy: 0.6340\n",
      "Epoch 8/20\n",
      "1250/1250 [==============================] - 16s 13ms/step - loss: 0.8515 - accuracy: 0.6979 - val_loss: 1.0770 - val_accuracy: 0.6296\n",
      "Epoch 9/20\n",
      "1250/1250 [==============================] - 16s 13ms/step - loss: 0.8111 - accuracy: 0.7108 - val_loss: 1.0693 - val_accuracy: 0.6347\n",
      "Epoch 10/20\n",
      "1250/1250 [==============================] - 16s 13ms/step - loss: 0.7622 - accuracy: 0.7293 - val_loss: 1.1070 - val_accuracy: 0.6290\n",
      "Epoch 11/20\n",
      "1250/1250 [==============================] - 16s 13ms/step - loss: 0.7258 - accuracy: 0.7406 - val_loss: 1.1222 - val_accuracy: 0.6273\n",
      "Epoch 12/20\n",
      "1250/1250 [==============================] - 16s 13ms/step - loss: 0.6807 - accuracy: 0.7572 - val_loss: 1.1413 - val_accuracy: 0.6305\n",
      "Epoch 13/20\n",
      "1250/1250 [==============================] - 16s 13ms/step - loss: 0.6397 - accuracy: 0.7708 - val_loss: 1.2134 - val_accuracy: 0.6195\n",
      "Epoch 14/20\n",
      "1250/1250 [==============================] - 16s 13ms/step - loss: 0.6069 - accuracy: 0.7838 - val_loss: 1.2491 - val_accuracy: 0.6114\n",
      "Epoch 15/20\n",
      "1250/1250 [==============================] - 16s 13ms/step - loss: 0.5708 - accuracy: 0.7962 - val_loss: 1.2344 - val_accuracy: 0.6204\n",
      "Epoch 16/20\n",
      "1250/1250 [==============================] - 16s 13ms/step - loss: 0.5358 - accuracy: 0.8104 - val_loss: 1.2679 - val_accuracy: 0.6333\n",
      "Epoch 17/20\n",
      "1250/1250 [==============================] - 16s 13ms/step - loss: 0.5013 - accuracy: 0.8191 - val_loss: 1.3586 - val_accuracy: 0.6226\n",
      "Epoch 18/20\n",
      "1250/1250 [==============================] - 16s 13ms/step - loss: 0.4720 - accuracy: 0.8319 - val_loss: 1.3848 - val_accuracy: 0.6171\n",
      "Epoch 19/20\n",
      "1250/1250 [==============================] - 16s 13ms/step - loss: 0.4519 - accuracy: 0.8387 - val_loss: 1.4585 - val_accuracy: 0.6181\n",
      "Epoch 20/20\n",
      "1250/1250 [==============================] - 16s 13ms/step - loss: 0.4167 - accuracy: 0.8529 - val_loss: 1.5580 - val_accuracy: 0.6156\n"
     ]
    }
   ],
   "source": [
    "#Your code here\n",
    "history = model.fit(X_train, y_train_encode, epochs = 20, validation_data = (X_val, y_val_encode))"
   ]
  },
  {
   "cell_type": "code",
   "execution_count": 10,
   "metadata": {
    "id": "2IuzTifDXece"
   },
   "outputs": [
    {
     "data": {
      "image/png": "[encoded data removed]",
      "text/plain": [
       "<Figure size 640x480 with 1 Axes>"
      ]
     },
     "metadata": {},
     "output_type": "display_data"
    }
   ],
   "source": [
    "# #Your code here\n",
    "trainLoss= history.history['loss']\n",
    "valLoss = history.history['val_loss']\n",
    "epochs = range(1, 21)\n",
    "plt.title('Training vs Validation Loss')\n",
    "plt.ylabel('Loss')\n",
    "plt.xlabel('Epoch')\n",
    "plt.plot(epochs, trainLoss, label = 'Training', color = 'darkblue')\n",
    "plt.plot(epochs, valLoss, label = 'Validation', color = 'orange')\n",
    "plt.legend()\n",
    "plt.show()\n"
   ]
  },
  {
   "cell_type": "code",
   "execution_count": 11,
   "metadata": {},
   "outputs": [
    {
     "data": {
      "image/png": "[encoded data removed]",
      "text/plain": [
       "<Figure size 640x480 with 1 Axes>"
      ]
     },
     "metadata": {},
     "output_type": "display_data"
    }
   ],
   "source": [
    "trainAccuracy= history.history['accuracy']\n",
    "valAccuracy = history.history['val_accuracy']\n",
    "epochs = range(1, 21)\n",
    "plt.title('Training vs Validation Accuracy')\n",
    "plt.ylabel('Accuracy')\n",
    "plt.xlabel('Epoch')\n",
    "plt.plot(epochs, trainAccuracy, label = 'Training', color = 'darkblue')\n",
    "plt.plot(epochs, valAccuracy, label = 'Validation', color = 'orange')\n",
    "plt.legend()\n",
    "plt.show()"
   ]
  },
  {
   "cell_type": "code",
   "execution_count": 12,
   "metadata": {
    "id": "jS4GnYarXgy_"
   },
   "outputs": [
    {
     "name": "stdout",
     "output_type": "stream",
     "text": [
      "313/313 [==============================] - 3s 8ms/step - loss: 1.6165 - accuracy: 0.6058\n",
      "Loss 1.6164515018463135\n",
      "Accuracy 0.6057999730110168\n"
     ]
    }
   ],
   "source": [
    "#Your code here\n",
    "loss, accur = model.evaluate(x_test, y_test_encode)\n",
    "print('Loss', loss)\n",
    "print('Accuracy', accur)"
   ]
  },
  {
   "cell_type": "markdown",
   "metadata": {
    "id": "mSteTYz8XlFG"
   },
   "source": [
    "3.4 Overfitting\n",
    "\n",
    "1) To overcome overfitting, we will train the network again with dropout this time. For hidden layers use dropout probability of 0.3. Train the model again for 20 epochs. Report model performance on test set.\n",
    "\n",
    "Plot separate plots for:\n",
    "\n",
    "displaying train vs validation loss over each epoch\n",
    "displaying train vs validation accuracy over each epoch\n",
    "\n",
    "2) This time, let's apply a batch normalization after every hidden layer, train the model for 20 epochs, report model performance on test set as above.\n",
    "\n",
    "Plot separate plots for:\n",
    "\n",
    "displaying train vs validation loss over each epoch\n",
    "displaying train vs validation accuracy over each epoch\n",
    "\n",
    "3) Compare batch normalization technique with the original model and with dropout, which technique do you think helps with overfitting better?"
   ]
  },
  {
   "cell_type": "markdown",
   "metadata": {
    "id": "QqC6Zs_UXrHE"
   },
   "source": [
    "3.4.1 Dropout"
   ]
  },
  {
   "cell_type": "code",
   "execution_count": 13,
   "metadata": {},
   "outputs": [],
   "source": [
    "model = Sequential([\n",
    "  Conv2D(filters = 6, kernel_size = (5,5), strides = (1, 1), padding = 'same', activation = 'relu', input_shape = (32, 32, 3)),\n",
    "  Dropout(.3),\n",
    "  MaxPool2D(pool_size = (2, 2)),\n",
    "  Conv2D(filters = 16, kernel_size = (5,5), padding = 'valid', activation = 'relu'),\n",
    "  Dropout(.3),  \n",
    "  MaxPool2D(pool_size = (2, 2)),\n",
    "  Conv2D(filters = 120, kernel_size = (5,5), activation = 'relu'),\n",
    "  Dropout(.3),\n",
    "  Flatten(),\n",
    "  Dense(units = 84, activation = 'relu'),\n",
    "  Dropout(.3),\n",
    "  Dense(units = 10, activation = 'softmax')\n",
    "])\n"
   ]
  },
  {
   "cell_type": "code",
   "execution_count": 14,
   "metadata": {},
   "outputs": [],
   "source": [
    "model.compile(optimizer = 'adam', loss = 'categorical_crossentropy', metrics = ['accuracy'])"
   ]
  },
  {
   "cell_type": "code",
   "execution_count": 15,
   "metadata": {
    "scrolled": false
   },
   "outputs": [
    {
     "name": "stdout",
     "output_type": "stream",
     "text": [
      "Epoch 1/20\n",
      "1250/1250 [==============================] - 28s 19ms/step - loss: 1.7296 - accuracy: 0.3641 - val_loss: 1.5581 - val_accuracy: 0.4640\n",
      "Epoch 2/20\n",
      "1250/1250 [==============================] - 23s 19ms/step - loss: 1.4684 - accuracy: 0.4712 - val_loss: 1.4101 - val_accuracy: 0.5287\n",
      "Epoch 3/20\n",
      "1250/1250 [==============================] - 23s 18ms/step - loss: 1.3581 - accuracy: 0.5159 - val_loss: 1.4276 - val_accuracy: 0.5200\n",
      "Epoch 4/20\n",
      "1250/1250 [==============================] - 23s 19ms/step - loss: 1.2957 - accuracy: 0.5425 - val_loss: 1.3058 - val_accuracy: 0.5388\n",
      "Epoch 5/20\n",
      "1250/1250 [==============================] - 24s 19ms/step - loss: 1.2520 - accuracy: 0.5564 - val_loss: 1.2477 - val_accuracy: 0.5605\n",
      "Epoch 6/20\n",
      "1250/1250 [==============================] - 24s 20ms/step - loss: 1.2072 - accuracy: 0.5729 - val_loss: 1.2009 - val_accuracy: 0.5763\n",
      "Epoch 7/20\n",
      "1250/1250 [==============================] - 23s 19ms/step - loss: 1.1766 - accuracy: 0.5857 - val_loss: 1.1933 - val_accuracy: 0.5868\n",
      "Epoch 8/20\n",
      "1250/1250 [==============================] - 23s 19ms/step - loss: 1.1459 - accuracy: 0.5957 - val_loss: 1.2012 - val_accuracy: 0.5861\n",
      "Epoch 9/20\n",
      "1250/1250 [==============================] - 23s 19ms/step - loss: 1.1304 - accuracy: 0.6046 - val_loss: 1.1607 - val_accuracy: 0.5948\n",
      "Epoch 10/20\n",
      "1250/1250 [==============================] - 23s 19ms/step - loss: 1.1124 - accuracy: 0.6053 - val_loss: 1.1011 - val_accuracy: 0.6102\n",
      "Epoch 11/20\n",
      "1250/1250 [==============================] - 23s 19ms/step - loss: 1.0972 - accuracy: 0.6141 - val_loss: 1.1258 - val_accuracy: 0.6081\n",
      "Epoch 12/20\n",
      "1250/1250 [==============================] - 23s 18ms/step - loss: 1.0802 - accuracy: 0.6201 - val_loss: 1.1367 - val_accuracy: 0.6088\n",
      "Epoch 13/20\n",
      "1250/1250 [==============================] - 23s 19ms/step - loss: 1.0609 - accuracy: 0.6276 - val_loss: 1.1107 - val_accuracy: 0.6196\n",
      "Epoch 14/20\n",
      "1250/1250 [==============================] - 23s 19ms/step - loss: 1.0508 - accuracy: 0.6350 - val_loss: 1.1200 - val_accuracy: 0.6078\n",
      "Epoch 15/20\n",
      "1250/1250 [==============================] - 24s 19ms/step - loss: 1.0328 - accuracy: 0.6352 - val_loss: 1.1098 - val_accuracy: 0.6146\n",
      "Epoch 16/20\n",
      "1250/1250 [==============================] - 23s 19ms/step - loss: 1.0230 - accuracy: 0.6405 - val_loss: 1.0952 - val_accuracy: 0.6080\n",
      "Epoch 17/20\n",
      "1250/1250 [==============================] - 24s 19ms/step - loss: 1.0215 - accuracy: 0.6423 - val_loss: 1.0825 - val_accuracy: 0.6189\n",
      "Epoch 18/20\n",
      "1250/1250 [==============================] - 23s 19ms/step - loss: 1.0109 - accuracy: 0.6449 - val_loss: 1.1027 - val_accuracy: 0.6119\n",
      "Epoch 19/20\n",
      "1250/1250 [==============================] - 24s 19ms/step - loss: 0.9853 - accuracy: 0.6539 - val_loss: 1.0528 - val_accuracy: 0.6398\n",
      "Epoch 20/20\n",
      "1250/1250 [==============================] - 23s 19ms/step - loss: 0.9861 - accuracy: 0.6543 - val_loss: 1.0371 - val_accuracy: 0.6392\n"
     ]
    }
   ],
   "source": [
    "history = model.fit(X_train, y_train_encode, epochs = 20, validation_data = (X_val, y_val_encode))"
   ]
  },
  {
   "cell_type": "code",
   "execution_count": 16,
   "metadata": {
    "id": "tKi2YqTrXulb"
   },
   "outputs": [
    {
     "data": {
      "image/png": "[encoded data removed]",
      "text/plain": [
       "<Figure size 640x480 with 1 Axes>"
      ]
     },
     "metadata": {},
     "output_type": "display_data"
    }
   ],
   "source": [
    "#Your code here\n",
    "trainLoss= history.history['loss']\n",
    "valLoss = history.history['val_loss']\n",
    "epochs = range(1, 21)\n",
    "plt.title('Training vs Validation Loss')\n",
    "plt.ylabel('Loss')\n",
    "plt.xlabel('Epoch')\n",
    "plt.plot(epochs, trainLoss, label = 'Training', color = 'darkblue')\n",
    "plt.plot(epochs, valLoss, label = 'Validation', color = 'orange')\n",
    "plt.legend()\n",
    "plt.show()"
   ]
  },
  {
   "cell_type": "code",
   "execution_count": 17,
   "metadata": {},
   "outputs": [
    {
     "data": {
      "image/png": "[encoded data removed]",
      "text/plain": [
       "<Figure size 640x480 with 1 Axes>"
      ]
     },
     "metadata": {},
     "output_type": "display_data"
    }
   ],
   "source": [
    "trainAccuracy= history.history['accuracy']\n",
    "valAccuracy = history.history['val_accuracy']\n",
    "epochs = range(1, 21)\n",
    "plt.title('Training vs Validation Accuracy')\n",
    "plt.ylabel('Accuracy')\n",
    "plt.xlabel('Epoch')\n",
    "plt.plot(epochs, trainAccuracy, label = 'Training', color = 'darkblue')\n",
    "plt.plot(epochs, valAccuracy, label = 'Validation', color = 'orange')\n",
    "plt.legend()\n",
    "plt.show()"
   ]
  },
  {
   "cell_type": "code",
   "execution_count": 18,
   "metadata": {
    "id": "tr_FL8h5Xx5c"
   },
   "outputs": [
    {
     "name": "stdout",
     "output_type": "stream",
     "text": [
      "313/313 [==============================] - 2s 7ms/step - loss: 1.0346 - accuracy: 0.6431\n",
      "Loss 1.0345531702041626\n",
      "Accuracy 0.6431000232696533\n"
     ]
    }
   ],
   "source": [
    "loss, accur = model.evaluate(x_test, y_test_encode)\n",
    "print('Loss', loss)\n",
    "print('Accuracy', accur)"
   ]
  },
  {
   "cell_type": "markdown",
   "metadata": {
    "id": "-xviUopQX71P"
   },
   "source": [
    "3.4.2 Batch Normalisation"
   ]
  },
  {
   "cell_type": "code",
   "execution_count": 19,
   "metadata": {
    "id": "HgvBTLRpX-t5"
   },
   "outputs": [],
   "source": [
    "model = Sequential([\n",
    "  Conv2D(filters = 6, kernel_size = (5,5), strides = (1, 1), padding = 'same', activation = 'relu', input_shape = (32, 32, 3)),\n",
    "  BatchNormalization(),\n",
    "  MaxPool2D(pool_size = (2, 2)),\n",
    "  Conv2D(filters = 16, kernel_size = (5,5), padding = 'valid', activation = 'relu'),\n",
    "  BatchNormalization(),\n",
    "  MaxPool2D(pool_size = (2, 2)),\n",
    "  Conv2D(filters = 120, kernel_size = (5,5), activation = 'relu'),\n",
    "  BatchNormalization(),\n",
    "  Flatten(),\n",
    "  Dense(units = 84, activation = 'relu'),\n",
    "  BatchNormalization(),\n",
    "  Dense(units = 10, activation = 'softmax')\n",
    "])\n",
    "model.compile(optimizer = 'adam', loss = 'categorical_crossentropy', metrics = ['accuracy'])"
   ]
  },
  {
   "cell_type": "code",
   "execution_count": 20,
   "metadata": {},
   "outputs": [
    {
     "name": "stdout",
     "output_type": "stream",
     "text": [
      "Epoch 1/20\n",
      "1250/1250 [==============================] - 40s 27ms/step - loss: 1.5168 - accuracy: 0.4639 - val_loss: 1.3404 - val_accuracy: 0.5222\n",
      "Epoch 2/20\n",
      "1250/1250 [==============================] - 34s 27ms/step - loss: 1.2112 - accuracy: 0.5734 - val_loss: 1.2324 - val_accuracy: 0.5662\n",
      "Epoch 3/20\n",
      "1250/1250 [==============================] - 33s 27ms/step - loss: 1.0789 - accuracy: 0.6209 - val_loss: 1.0856 - val_accuracy: 0.6189\n",
      "Epoch 4/20\n",
      "1250/1250 [==============================] - 34s 27ms/step - loss: 0.9914 - accuracy: 0.6522 - val_loss: 1.1582 - val_accuracy: 0.5973\n",
      "Epoch 5/20\n",
      "1250/1250 [==============================] - 34s 27ms/step - loss: 0.9065 - accuracy: 0.6850 - val_loss: 1.2814 - val_accuracy: 0.5665\n",
      "Epoch 6/20\n",
      "1250/1250 [==============================] - 34s 27ms/step - loss: 0.8477 - accuracy: 0.7040 - val_loss: 1.1507 - val_accuracy: 0.6200\n",
      "Epoch 7/20\n",
      "1250/1250 [==============================] - 34s 27ms/step - loss: 0.7877 - accuracy: 0.7231 - val_loss: 1.1426 - val_accuracy: 0.6265\n",
      "Epoch 8/20\n",
      "1250/1250 [==============================] - 34s 27ms/step - loss: 0.7372 - accuracy: 0.7423 - val_loss: 1.1356 - val_accuracy: 0.6309\n",
      "Epoch 9/20\n",
      "1250/1250 [==============================] - 34s 27ms/step - loss: 0.6834 - accuracy: 0.7590 - val_loss: 1.0854 - val_accuracy: 0.6407\n",
      "Epoch 10/20\n",
      "1250/1250 [==============================] - 33s 27ms/step - loss: 0.6415 - accuracy: 0.7740 - val_loss: 1.3065 - val_accuracy: 0.5969\n",
      "Epoch 11/20\n",
      "1250/1250 [==============================] - 34s 27ms/step - loss: 0.6019 - accuracy: 0.7887 - val_loss: 1.0964 - val_accuracy: 0.6494\n",
      "Epoch 12/20\n",
      "1250/1250 [==============================] - 31s 25ms/step - loss: 0.5651 - accuracy: 0.7989 - val_loss: 1.0918 - val_accuracy: 0.6621\n",
      "Epoch 13/20\n",
      "1250/1250 [==============================] - 15s 12ms/step - loss: 0.5240 - accuracy: 0.8130 - val_loss: 1.1291 - val_accuracy: 0.6568\n",
      "Epoch 14/20\n",
      "1250/1250 [==============================] - 15s 12ms/step - loss: 0.5016 - accuracy: 0.8209 - val_loss: 1.1672 - val_accuracy: 0.6528\n",
      "Epoch 15/20\n",
      "1250/1250 [==============================] - 15s 12ms/step - loss: 0.4615 - accuracy: 0.8356 - val_loss: 1.2499 - val_accuracy: 0.6455\n",
      "Epoch 16/20\n",
      "1250/1250 [==============================] - 14s 12ms/step - loss: 0.4388 - accuracy: 0.8431 - val_loss: 1.2363 - val_accuracy: 0.6505\n",
      "Epoch 17/20\n",
      "1250/1250 [==============================] - 15s 12ms/step - loss: 0.4196 - accuracy: 0.8517 - val_loss: 1.3048 - val_accuracy: 0.6489\n",
      "Epoch 18/20\n",
      "1250/1250 [==============================] - 15s 12ms/step - loss: 0.3926 - accuracy: 0.8590 - val_loss: 1.2956 - val_accuracy: 0.6516\n",
      "Epoch 19/20\n",
      "1250/1250 [==============================] - 14s 11ms/step - loss: 0.3754 - accuracy: 0.8657 - val_loss: 1.5510 - val_accuracy: 0.6123\n",
      "Epoch 20/20\n",
      "1250/1250 [==============================] - 15s 12ms/step - loss: 0.3526 - accuracy: 0.8736 - val_loss: 1.4427 - val_accuracy: 0.6307\n"
     ]
    }
   ],
   "source": [
    "history = model.fit(X_train, y_train_encode, epochs = 20, validation_data = (X_val, y_val_encode))"
   ]
  },
  {
   "cell_type": "code",
   "execution_count": 21,
   "metadata": {},
   "outputs": [
    {
     "data": {
      "image/png": "[encoded data removed]",
      "text/plain": [
       "<Figure size 640x480 with 1 Axes>"
      ]
     },
     "metadata": {},
     "output_type": "display_data"
    }
   ],
   "source": [
    "trainLoss= history.history['loss']\n",
    "valLoss = history.history['val_loss']\n",
    "epochs = range(1, 21)\n",
    "plt.title('Training vs Validation Loss')\n",
    "plt.ylabel('Loss')\n",
    "plt.xlabel('Epoch')\n",
    "plt.plot(epochs, trainLoss, label = 'Training', color = 'darkblue')\n",
    "plt.plot(epochs, valLoss, label = 'Validation', color = 'orange')\n",
    "plt.legend()\n",
    "plt.show()"
   ]
  },
  {
   "cell_type": "code",
   "execution_count": 22,
   "metadata": {
    "id": "oSdB71AQYBkY"
   },
   "outputs": [
    {
     "data": {
      "image/png": "[encoded data removed]",
      "text/plain": [
       "<Figure size 640x480 with 1 Axes>"
      ]
     },
     "metadata": {},
     "output_type": "display_data"
    }
   ],
   "source": [
    "trainAccuracy= history.history['accuracy']\n",
    "valAccuracy = history.history['val_accuracy']\n",
    "epochs = range(1, 21)\n",
    "plt.title('Training vs Validation Accuracy')\n",
    "plt.ylabel('Accuracy')\n",
    "plt.xlabel('Epoch')\n",
    "plt.plot(epochs, trainAccuracy, label = 'Training', color = 'darkblue')\n",
    "plt.plot(epochs, valAccuracy, label = 'Validation', color = 'orange')\n",
    "plt.legend()\n",
    "plt.show()"
   ]
  },
  {
   "cell_type": "code",
   "execution_count": 23,
   "metadata": {
    "id": "Dy1glawqYExM"
   },
   "outputs": [
    {
     "name": "stdout",
     "output_type": "stream",
     "text": [
      "313/313 [==============================] - 1s 3ms/step - loss: 1.4237 - accuracy: 0.6303\n",
      "Loss 1.4236669540405273\n",
      "Accuracy 0.630299985408783\n"
     ]
    }
   ],
   "source": [
    "loss, accur = model.evaluate(x_test, y_test_encode)\n",
    "print('Loss', loss)\n",
    "print('Accuracy', accur)"
   ]
  },
  {
   "cell_type": "markdown",
   "metadata": {},
   "source": []
  },
  {
   "cell_type": "markdown",
   "metadata": {},
   "source": [
    "The dropout model perfomed better than batch normalization or the model that didn't use eithier batch normalization or dropout. This is seen by its lower loss and higher accuracy compared to the other models. We can also see in its epoch to accuracy graph that it seeemed to have a general trend where for each subsequent epoch the accuracy increased as well. Simularly within the dropout model it seeemed to have a general trend where for each subsequent epoch the loss decreases as well. These graphs show that the model that uses dropout is not overfitting the data and the model is improving over time. The other two models initially show these trends in their graph but loss this general trend as the epochs increase. This shows that these models may not have been improving after each epoch and were overfitting. The model that used dropout not overfitting makes sense as dropout is supposed to stop overfitting. Batch normalization is also supposed to stop overfitting but was not as effective as dropout was in doing so. Batch normalization did improve the effectivness of the model just not to the degree that the dropout had done. We can see that the model that used batch normalization performed better than the model that didn't use eithier batch normalization or dropout through its lower loss and higher accuracy."
   ]
  },
  {
   "cell_type": "markdown",
   "metadata": {
    "id": "z0sQIvXhTzNp"
   },
   "source": [
    "## Natural Language Processing\n",
    "\n",
    "We will train a supervised learning model to predict if a movie review has a positive or negative sentiment."
   ]
  },
  {
   "cell_type": "markdown",
   "metadata": {
    "id": "QXMFcomQT3cf"
   },
   "source": [
    "###**Dataset loading & dev/test splits**"
   ]
  },
  {
   "cell_type": "markdown",
   "metadata": {
    "id": "X-AVsvHdMtqQ"
   },
   "source": [
    "1.1) Load the movie reviews dataset from NLTK library"
   ]
  },
  {
   "cell_type": "code",
   "execution_count": 24,
   "metadata": {
    "id": "AqyybzOMMAvo"
   },
   "outputs": [
    {
     "name": "stderr",
     "output_type": "stream",
     "text": [
      "[nltk_data] Downloading package movie_reviews to\n",
      "[nltk_data]     C:\\Users\\arjun\\AppData\\Roaming\\nltk_data...\n",
      "[nltk_data]   Package movie_reviews is already up-to-date!\n",
      "[nltk_data] Downloading package punkt to\n",
      "[nltk_data]     C:\\Users\\arjun\\AppData\\Roaming\\nltk_data...\n",
      "[nltk_data]   Package punkt is already up-to-date!\n",
      "[nltk_data] Downloading package stopwords to\n",
      "[nltk_data]     C:\\Users\\arjun\\AppData\\Roaming\\nltk_data...\n",
      "[nltk_data]   Package stopwords is already up-to-date!\n"
     ]
    }
   ],
   "source": [
    "import nltk\n",
    "nltk.download(\"movie_reviews\")\n",
    "nltk.download('punkt')\n",
    "nltk.download('stopwords')\n",
    "from nltk.corpus import movie_reviews\n",
    "import warnings\n",
    "warnings.filterwarnings(\"ignore\")\n",
    "from nltk.corpus import stopwords\n",
    "stop = stopwords.words('english')\n",
    "import pandas as pd\n",
    "import string\n",
    "import re\n",
    "from sklearn.model_selection import train_test_split\n",
    "from nltk.stem import PorterStemmer\n",
    "from nltk.tokenize import word_tokenize\n",
    "from sklearn.feature_extraction.text import CountVectorizer\n",
    "from sklearn.linear_model import LogisticRegression, LogisticRegressionCV\n",
    "from sklearn.feature_extraction.text import TfidfVectorizer\n",
    "from sklearn.metrics import classification_report"
   ]
  },
  {
   "cell_type": "markdown",
   "metadata": {
    "id": "fli0xSP5MpOa"
   },
   "source": [
    "1.2) Load the positive & negative reviews"
   ]
  },
  {
   "cell_type": "code",
   "execution_count": 25,
   "metadata": {
    "id": "2anjMGF6MYmS"
   },
   "outputs": [],
   "source": [
    "positive_reviews = []\n",
    "for fileid in movie_reviews.fileids('pos'):\n",
    "    words = movie_reviews.raw(fileid)\n",
    "    positive_reviews.append(words)\n",
    "\n",
    "negative_reviews = []\n",
    "for fileid in movie_reviews.fileids('neg'):\n",
    "    words = movie_reviews.raw(fileid)\n",
    "    negative_reviews.append(words)"
   ]
  },
  {
   "cell_type": "markdown",
   "metadata": {
    "id": "wgnT0SFqM5WN"
   },
   "source": [
    "1.3) Make a data frame that has all reviews and their corresponding labels"
   ]
  },
  {
   "cell_type": "code",
   "execution_count": 26,
   "metadata": {
    "id": "iLehhhrQM4h3"
   },
   "outputs": [],
   "source": [
    "# Your code here\n",
    "sentiment = [1] * len(positive_reviews) + [0] * len(negative_reviews)\n",
    "total_reviews = positive_reviews + negative_reviews\n",
    "\n",
    "df_rev = pd.DataFrame({\n",
    "    'reviews': total_reviews,\n",
    "    'sentiment': sentiment\n",
    "})"
   ]
  },
  {
   "cell_type": "code",
   "execution_count": 27,
   "metadata": {},
   "outputs": [
    {
     "data": {
      "text/html": [
       "<div>\n",
       "<style scoped>\n",
       "    .dataframe tbody tr th:only-of-type {\n",
       "        vertical-align: middle;\n",
       "    }\n",
       "\n",
       "    .dataframe tbody tr th {\n",
       "        vertical-align: top;\n",
       "    }\n",
       "\n",
       "    .dataframe thead th {\n",
       "        text-align: right;\n",
       "    }\n",
       "</style>\n",
       "<table border=\"1\" class=\"dataframe\">\n",
       "  <thead>\n",
       "    <tr style=\"text-align: right;\">\n",
       "      <th></th>\n",
       "      <th>reviews</th>\n",
       "      <th>sentiment</th>\n",
       "    </tr>\n",
       "  </thead>\n",
       "  <tbody>\n",
       "    <tr>\n",
       "      <th>0</th>\n",
       "      <td>films adapted from comic books have had plenty...</td>\n",
       "      <td>1</td>\n",
       "    </tr>\n",
       "    <tr>\n",
       "      <th>1</th>\n",
       "      <td>every now and then a movie comes along from a ...</td>\n",
       "      <td>1</td>\n",
       "    </tr>\n",
       "    <tr>\n",
       "      <th>2</th>\n",
       "      <td>you've got mail works alot better than it dese...</td>\n",
       "      <td>1</td>\n",
       "    </tr>\n",
       "    <tr>\n",
       "      <th>3</th>\n",
       "      <td>\" jaws \" is a rare film that grabs your atten...</td>\n",
       "      <td>1</td>\n",
       "    </tr>\n",
       "    <tr>\n",
       "      <th>4</th>\n",
       "      <td>moviemaking is a lot like being the general ma...</td>\n",
       "      <td>1</td>\n",
       "    </tr>\n",
       "    <tr>\n",
       "      <th>...</th>\n",
       "      <td>...</td>\n",
       "      <td>...</td>\n",
       "    </tr>\n",
       "    <tr>\n",
       "      <th>1995</th>\n",
       "      <td>if anything , \" stigmata \" should be taken as ...</td>\n",
       "      <td>0</td>\n",
       "    </tr>\n",
       "    <tr>\n",
       "      <th>1996</th>\n",
       "      <td>john boorman's \" zardoz \" is a goofy cinematic...</td>\n",
       "      <td>0</td>\n",
       "    </tr>\n",
       "    <tr>\n",
       "      <th>1997</th>\n",
       "      <td>the kids in the hall are an acquired taste . \\...</td>\n",
       "      <td>0</td>\n",
       "    </tr>\n",
       "    <tr>\n",
       "      <th>1998</th>\n",
       "      <td>there was a time when john carpenter was a gre...</td>\n",
       "      <td>0</td>\n",
       "    </tr>\n",
       "    <tr>\n",
       "      <th>1999</th>\n",
       "      <td>two party guys bob their heads to haddaway's d...</td>\n",
       "      <td>0</td>\n",
       "    </tr>\n",
       "  </tbody>\n",
       "</table>\n",
       "<p>2000 rows × 2 columns</p>\n",
       "</div>"
      ],
      "text/plain": [
       "                                                reviews  sentiment\n",
       "0     films adapted from comic books have had plenty...          1\n",
       "1     every now and then a movie comes along from a ...          1\n",
       "2     you've got mail works alot better than it dese...          1\n",
       "3      \" jaws \" is a rare film that grabs your atten...          1\n",
       "4     moviemaking is a lot like being the general ma...          1\n",
       "...                                                 ...        ...\n",
       "1995  if anything , \" stigmata \" should be taken as ...          0\n",
       "1996  john boorman's \" zardoz \" is a goofy cinematic...          0\n",
       "1997  the kids in the hall are an acquired taste . \\...          0\n",
       "1998  there was a time when john carpenter was a gre...          0\n",
       "1999  two party guys bob their heads to haddaway's d...          0\n",
       "\n",
       "[2000 rows x 2 columns]"
      ]
     },
     "execution_count": 27,
     "metadata": {},
     "output_type": "execute_result"
    }
   ],
   "source": [
    "df_rev"
   ]
  },
  {
   "cell_type": "markdown",
   "metadata": {
    "id": "ttE7HrHjNDuC"
   },
   "source": [
    "1.4) Look at the class distribution of the movie reviews"
   ]
  },
  {
   "cell_type": "code",
   "execution_count": 28,
   "metadata": {
    "id": "NtuvFJQ_NBmu"
   },
   "outputs": [
    {
     "name": "stdout",
     "output_type": "stream",
     "text": [
      "class distribution of the movie reviews sentiment\n",
      "1    1000\n",
      "0    1000\n",
      "Name: count, dtype: int64\n"
     ]
    }
   ],
   "source": [
    "# Your code here\n",
    "print('class distribution of the movie reviews', df_rev['sentiment'].value_counts())"
   ]
  },
  {
   "cell_type": "code",
   "execution_count": 29,
   "metadata": {},
   "outputs": [
    {
     "name": "stdout",
     "output_type": "stream",
     "text": [
      "class distribution of the movie reviews sentiment\n",
      "1    0.5\n",
      "0    0.5\n",
      "Name: proportion, dtype: float64\n"
     ]
    }
   ],
   "source": [
    "print('class distribution of the movie reviews', df_rev['sentiment'].value_counts(normalize = True))"
   ]
  },
  {
   "cell_type": "markdown",
   "metadata": {
    "id": "hn05L1C0NIx7"
   },
   "source": [
    "1.5) Create a development & test split (80/20 ratio):"
   ]
  },
  {
   "cell_type": "code",
   "execution_count": 41,
   "metadata": {
    "id": "egvHN2VeNGwN"
   },
   "outputs": [],
   "source": [
    "# Your code here\n",
    "X_dev, X_test, y_dev, y_test = train_test_split(\n",
    "    df_rev['reviews'],\n",
    "    df_rev['sentiment'],\n",
    "    train_size = .8,\n",
    "    random_state = 0\n",
    ")"
   ]
  },
  {
   "cell_type": "markdown",
   "metadata": {
    "id": "7v8ikOSFNRUU"
   },
   "source": [
    "## **Data preprocessing**\n",
    "\n",
    "We will do some data preprocessing before we tokenize the data. You can use the re package in python to remove and and replace these strings."
   ]
  },
  {
   "cell_type": "markdown",
   "metadata": {
    "id": "G1rs4Z0sOGN5"
   },
   "source": [
    "1.6) Replace numbers in every review with \"\""
   ]
  },
  {
   "cell_type": "code",
   "execution_count": 42,
   "metadata": {
    "id": "sJ8HffyQNPyp"
   },
   "outputs": [],
   "source": [
    "def filt_numb(text):\n",
    "    return re.sub(\"\\d+\", '', text)\n",
    "\n",
    "X_dev = X_dev.apply(filt_numb)\n",
    "X_test = X_test.apply(filt_numb)"
   ]
  },
  {
   "cell_type": "markdown",
   "metadata": {
    "id": "GUESPUzDOO6x"
   },
   "source": [
    "1.7) Remove all stop words"
   ]
  },
  {
   "cell_type": "code",
   "execution_count": 43,
   "metadata": {
    "id": "Kz_qmWLkOVVs"
   },
   "outputs": [],
   "source": [
    "# Your code here\n",
    "stop_words = set(stopwords.words('english'))\n",
    "def filter_stop_word(review):\n",
    "    word_token = word_tokenize(review)\n",
    "    filter_review = [i for i in word_token if i not in stop_words]\n",
    "    return ' '.join(filter_review)\n",
    "X_dev = X_dev.apply(filter_stop_word)\n",
    "X_test = X_test.apply(filter_stop_word)"
   ]
  },
  {
   "cell_type": "markdown",
   "metadata": {
    "id": "y5OIknvjOZwT"
   },
   "source": [
    "1.8) Remove all punctuations"
   ]
  },
  {
   "cell_type": "code",
   "execution_count": 44,
   "metadata": {
    "id": "TK1E0DXNOTWo"
   },
   "outputs": [],
   "source": [
    "# Your code here\n",
    "def remove_punc(review):\n",
    "    word_token = word_tokenize(review)\n",
    "    punc_review_remove = [i for i in word_token if i not in string.punctuation]\n",
    "    return ' '.join(punc_review_remove)\n",
    "X_dev = X_dev.apply(remove_punc)\n",
    "X_test = X_test.apply(remove_punc)"
   ]
  },
  {
   "cell_type": "markdown",
   "metadata": {
    "id": "TgCMUOoHOdtp"
   },
   "source": [
    "1.9) Apply stemming on the development & test datasets using Porter algorithm"
   ]
  },
  {
   "cell_type": "code",
   "execution_count": 45,
   "metadata": {
    "id": "y-rKDUheOa3K"
   },
   "outputs": [],
   "source": [
    "# Your code here\n",
    "porter = PorterStemmer()\n",
    "def porter_stemmer(review):\n",
    "    word_token = word_tokenize(review)\n",
    "    stem_review = [porter.stem(i) for i in word_token]\n",
    "    return \" \".join(stem_review)\n",
    "\n",
    "X_dev = [porter_stemmer(review) for review in X_dev]\n",
    "X_test = [porter_stemmer(review) for review in X_test]"
   ]
  },
  {
   "cell_type": "markdown",
   "metadata": {
    "id": "BsgZEUY1Q7M1"
   },
   "source": [
    "1.10) Looking at the dataset do you think any other data pre-processing might be helpful? You can experiment with the features if you want to."
   ]
  },
  {
   "cell_type": "markdown",
   "metadata": {},
   "source": [
    "Using lemmatization over stemming would greatly benefit the model. Stemming just remove the last few character of a word. This can often lead to incorrect meaning and spelling such as caring could become car a completely different word. Lemmatization would consider the context of the word and convert it into the words meaningful base form. In this case the word Caring could turn into Care which is related to the original word. We could also go through the data and remove very rarely used words that could cause unnecessary noise in the data. By doing this we could improve on the models performance."
   ]
  },
  {
   "cell_type": "markdown",
   "metadata": {
    "id": "htyGAullliDJ"
   },
   "source": [
    "### 2) Model Training"
   ]
  },
  {
   "cell_type": "markdown",
   "metadata": {
    "id": "UkPGh4VSltnn"
   },
   "source": [
    "2.1) Create bag of words features for each review in the development dataset"
   ]
  },
  {
   "cell_type": "code",
   "execution_count": 46,
   "metadata": {
    "id": "mbkVmAwRluTn"
   },
   "outputs": [],
   "source": [
    "# Your code here\n",
    "vector = CountVectorizer() \n",
    "X_dev_vector = vector.fit_transform(X_dev)\n",
    "X_test_vector = vector.transform(X_test)"
   ]
  },
  {
   "cell_type": "markdown",
   "metadata": {
    "id": "1lfwegKtk-Lp"
   },
   "source": [
    "2.2) Train a Logistic Regression model on the development dataset"
   ]
  },
  {
   "cell_type": "code",
   "execution_count": 47,
   "metadata": {
    "id": "PEx3JOnfk-tY"
   },
   "outputs": [],
   "source": [
    "# Your code here\n",
    "lr_vector = LogisticRegression().fit(X_dev_vector, y_dev)\n",
    "y_pred_vect = lr_vector.predict(X_test_vector)"
   ]
  },
  {
   "cell_type": "markdown",
   "metadata": {
    "id": "B_3wvbk9k_Sj"
   },
   "source": [
    "2.3) Create TF-IDF features for each review in the development dataset"
   ]
  },
  {
   "cell_type": "code",
   "execution_count": 48,
   "metadata": {
    "id": "vlmA7bS3k_tQ"
   },
   "outputs": [],
   "source": [
    "# Your code here\n",
    "tfidf_vectorizer = TfidfVectorizer()\n",
    "tfidf_X_dev = tfidf_vectorizer.fit_transform(X_dev)\n",
    "tfidf_X_test = tfidf_vectorizer.transform(X_test)"
   ]
  },
  {
   "cell_type": "markdown",
   "metadata": {
    "id": "uFnzO67WlL2Y"
   },
   "source": [
    "2.4) Train the Logistic Regression model on the development dataset with TF-IDF features"
   ]
  },
  {
   "cell_type": "code",
   "execution_count": 49,
   "metadata": {
    "id": "mF1AcJxKlN_I"
   },
   "outputs": [],
   "source": [
    "# Your code here\n",
    "tfidf_lr = LogisticRegression().fit(tfidf_X_dev, y_dev)\n",
    "y_pred_tfidf = tfidf_lr.predict(tfidf_X_test)"
   ]
  },
  {
   "cell_type": "markdown",
   "metadata": {
    "id": "MdFS6SWMlONK"
   },
   "source": [
    "2.5) Compare the performance of the two models on the test dataset using a classication\n",
    "report and the scores obtained. Explain the difference in results obtained."
   ]
  },
  {
   "cell_type": "code",
   "execution_count": 50,
   "metadata": {
    "id": "o6gpOsp7lTJx"
   },
   "outputs": [],
   "source": [
    "# Your code here\n",
    "\n",
    "report_vect = classification_report(y_test, y_pred_vect)\n",
    "report_tfidf = classification_report(y_test, y_pred_tfidf)"
   ]
  },
  {
   "cell_type": "code",
   "execution_count": 51,
   "metadata": {},
   "outputs": [
    {
     "name": "stdout",
     "output_type": "stream",
     "text": [
      "\t   Classification Report of models that used CountVectorizer \n",
      "\n",
      "              precision    recall  f1-score   support\n",
      "\n",
      "           0       0.83      0.83      0.83       200\n",
      "           1       0.83      0.83      0.83       200\n",
      "\n",
      "    accuracy                           0.83       400\n",
      "   macro avg       0.83      0.83      0.83       400\n",
      "weighted avg       0.83      0.83      0.83       400\n",
      "\n"
     ]
    }
   ],
   "source": [
    "print('\\t   Classification Report of models that used CountVectorizer', '\\n')\n",
    "\n",
    "print(report_vect)"
   ]
  },
  {
   "cell_type": "code",
   "execution_count": 52,
   "metadata": {},
   "outputs": [
    {
     "name": "stdout",
     "output_type": "stream",
     "text": [
      "\t   Classification Report of models that use TfidfVectorizer \n",
      "\n",
      "              precision    recall  f1-score   support\n",
      "\n",
      "           0       0.85      0.84      0.85       200\n",
      "           1       0.84      0.85      0.85       200\n",
      "\n",
      "    accuracy                           0.85       400\n",
      "   macro avg       0.85      0.85      0.85       400\n",
      "weighted avg       0.85      0.85      0.85       400\n",
      "\n"
     ]
    }
   ],
   "source": [
    "print('\\t   Classification Report of models that use TfidfVectorizer', '\\n')\n",
    "print(report_tfidf)"
   ]
  },
  {
   "cell_type": "code",
   "execution_count": 53,
   "metadata": {},
   "outputs": [
    {
     "name": "stdout",
     "output_type": "stream",
     "text": [
      "Score of model that used CountVectorizer: 0.8325\n"
     ]
    }
   ],
   "source": [
    "print('Score of model that used CountVectorizer:', lr_vector.score(X_test_vector, y_test))\n"
   ]
  },
  {
   "cell_type": "code",
   "execution_count": 54,
   "metadata": {},
   "outputs": [
    {
     "name": "stdout",
     "output_type": "stream",
     "text": [
      "Score of model that used TfidfVectorizer: 0.8475\n"
     ]
    }
   ],
   "source": [
    "print('Score of model that used TfidfVectorizer:', tfidf_lr.score(tfidf_X_test, y_test))\n"
   ]
  },
  {
   "cell_type": "markdown",
   "metadata": {},
   "source": [
    "The model scoring, precision, recall and f1-score are all better in model that used TF-IDF than the model that used CountVectorizer. This proves that the model trained on data altered by the TF-IDF performed better than the model trained with data altered by the CountVectorizer. The better performance of the data that used TF-IDF could be because unlike CountVectorizer, the TF-IDF increases the importance of lesser used words within the model. As lesser occuring words can be more significant than more often occuring word within the model."
   ]
  }
 ],
 "metadata": {
  "colab": {
   "provenance": []
  },
  "kernelspec": {
   "display_name": "Python 3 (ipykernel)",
   "language": "python",
   "name": "python3"
  },
  "language_info": {
   "codemirror_mode": {
    "name": "ipython",
    "version": 3
   },
   "file_extension": ".py",
   "mimetype": "text/x-python",
   "name": "python",
   "nbconvert_exporter": "python",
   "pygments_lexer": "ipython3",
   "version": "3.11.5"
  },
  "vscode": {
   "interpreter": {
    "hash": "3d478bda651dbca712eb3db1d8dcebab555b47173a28bac9378c8cb960b89182"
   }
  }
 },
 "nbformat": 4,
 "nbformat_minor": 1
}
